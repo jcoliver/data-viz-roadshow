{
 "cells": [
  {
   "cell_type": "markdown",
   "metadata": {},
   "source": [
    "# Data Viz Intro\n",
    "\n",
    "Welcome to our presentation! We will be learning about some theory and principles of data visualization that will enable you to better leverage visualization libraries available in Python and R"
   ]
  },
  {
   "cell_type": "markdown",
   "metadata": {},
   "source": [
    "## Data Visualization in Python\n",
    "\n",
    "Visualization tools like Voyager and Raw Graphs are great for \"Thinking Visually\" and prototyping. When visualizing data it often is important to work with a programming language because data often needs steps to be taken before visualizing that are easy to apply in a programmatic fashion. The visualization capabilities of a language are also much greater than an individual web tool can provide. Let's get started using python for plotting some of our data.\n",
    "\n",
    "In this example, we will be plotting temperature data for the first day of summer in Tucson, Arizona.\n",
    "\n",
    "We start by importing additional packages necessary for this visualization."
   ]
  },
  {
   "cell_type": "code",
   "execution_count": null,
   "metadata": {},
   "outputs": [],
   "source": [
    "import pandas\n",
    "import seaborn\n",
    "\n",
    "print(\"Packages loaded!\")"
   ]
  },
  {
   "cell_type": "markdown",
   "metadata": {},
   "source": [
    "Next, we load data and look at the first few rows."
   ]
  },
  {
   "cell_type": "code",
   "execution_count": null,
   "metadata": {},
   "outputs": [],
   "source": [
    "tucson = pandas.read_csv(\"data/tucson-summer.csv\")\n",
    "tucson.head()"
   ]
  },
  {
   "cell_type": "markdown",
   "metadata": {},
   "source": [
    "Our first plot will be plotting the daily minimum temperature of the summer solstice over time. Using the seaborn method `regplot`, it will automatically draw the line from linear regression."
   ]
  },
  {
   "cell_type": "code",
   "execution_count": null,
   "metadata": {},
   "outputs": [],
   "source": [
    "seaborn.regplot(x = \"year\", y = \"tmin\", data = tucson)"
   ]
  },
  {
   "cell_type": "markdown",
   "metadata": {},
   "source": [
    "We should update our axis labels, using the `set` command. Note here we also assigned the plot to a variable (`tucson_plot`), so we could manipulate it."
   ]
  },
  {
   "cell_type": "code",
   "execution_count": null,
   "metadata": {},
   "outputs": [],
   "source": [
    "tucson_plot = seaborn.regplot(x = \"year\", y = \"tmin\", data = tucson)\n",
    "tucson_plot.set(ylabel = \"Miniumum temperature (F)\")"
   ]
  },
  {
   "cell_type": "markdown",
   "metadata": {},
   "source": [
    "Next, we will modify our code to change what we plot on the y-axis. In this case we want to plot the maximum temperature (`tmax`) on the y-axis. Update the code below to change the values we are plotting on the y-axis."
   ]
  },
  {
   "cell_type": "code",
   "execution_count": null,
   "metadata": {},
   "outputs": [],
   "source": [
    "tucson_plot = seaborn.regplot(x = \"year\", y = \"tmin\", data = tucson)\n",
    "tucson_plot.set(ylabel = \"Miniumum temperature (F)\")"
   ]
  },
  {
   "cell_type": "markdown",
   "metadata": {},
   "source": [
    "By default, it will add a linear regression line and confidence intervals. This may not be a linear relationship - try a polynomial relationship by adding `order = 2` to the `regplot` method (immediately following the data specification)."
   ]
  },
  {
   "cell_type": "code",
   "execution_count": null,
   "metadata": {},
   "outputs": [],
   "source": [
    "# Paste your code from above here, and update"
   ]
  },
  {
   "cell_type": "markdown",
   "metadata": {},
   "source": [
    "To finish off this plot, we want to write the plot to a png file."
   ]
  },
  {
   "cell_type": "code",
   "execution_count": null,
   "metadata": {},
   "outputs": [],
   "source": [
    "tucson_plot = # Copy and paste the plot code from the code block above\n",
    "\n",
    "# Leave this line as is\n",
    "tucson_plot.get_figure().savefig(\"output/tucson-plot.png\")"
   ]
  },
  {
   "cell_type": "markdown",
   "metadata": {},
   "source": [
    "After updating and running this last block of code, you can click the Jupyter logo in the top-left part of this notebook to see files that you can download (including the one we just saved). You can open a new tab with this view by right-clicking or control-clicking the icon."
   ]
  },
  {
   "cell_type": "markdown",
   "metadata": {},
   "source": [
    "## What How Why\n",
    "### Important general principles in visualization\n",
    "\n",
    "The following section of the presentation is based on slides from [Dr. Joshua Levine](https://jalevine.bitbucket.io/) (University of Arizona), and ideas from [Dr. Tamara Munzner](https://www.cs.ubc.ca/~tmm/) (University of British Columbia)."
   ]
  },
  {
   "cell_type": "markdown",
   "metadata": {},
   "source": [
    "### Practice Identifying Data Attribute types\n",
    "\n",
    "In the cells below please load a dataframe of our arizona cities temperatures. Then form guesses about which columns are \n",
    "\n",
    "* Categorical\n",
    "* Ordinal\n",
    "* Quantitative\n",
    "\n",
    "Identifying the attribute type is often the starting point for the visualization process.\n",
    "\n",
    "If you don't see a text editor space below make sure to execute the cell\n"
   ]
  },
  {
   "cell_type": "code",
   "execution_count": 3,
   "metadata": {},
   "outputs": [
    {
     "data": {
      "text/html": [
       "<iframe src=\"https://etherpad.wikimedia.org/p/dsf-dvr\" frameborder=\"0\" width=\"100%\" height=\"569\" allowfullscreen=\"true\" mozallowfullscreen=\"true\" webkitallowfullscreen=\"true\"></iframe>\n"
      ],
      "text/plain": [
       "<IPython.core.display.HTML object>"
      ]
     },
     "metadata": {},
     "output_type": "display_data"
    }
   ],

   "source": [
    "%%html\n",
    "<iframe src=\"https://etherpad.wikimedia.org/p/dsf-dvr\" frameborder=\"0\" width=\"100%\" height=\"569\" allowfullscreen=\"true\" mozallowfullscreen=\"true\" webkitallowfullscreen=\"true\"></iframe>"
   ]
  },
  {
   "cell_type": "code",
   "execution_count": null,
   "metadata": {},
   "outputs": [],
   "source": [
    "import pandas as pd\n",
    "csv_path = \"data/arizona-heat.csv\"\n",
    "df = pd.read_csv(csv_path)\n",
    "df"
   ]
  },
  {
   "cell_type": "markdown",
   "metadata": {},
   "source": [
    "Write your guesses as comma separated strings in each list below. For example `\"id\"` is being identified as a categorical attribute type column. "
   ]
  },
  {
   "cell_type": "code",
   "execution_count": null,
   "metadata": {},
   "outputs": [],
   "source": [
    "categorical_columns = [\"id\"]\n",
    "ordinal_columns = []\n",
    "quantitative_columns = []\n",
    "\n",
    "print(\"categorical data\")\n",
    "print(df[categorical_columns])\n",
    "\n",
    "print(\"ordinal data\")\n",
    "print(df[ordinal_columns])\n",
    "\n",
    "print(\"quantitative data\")\n",
    "print(df[quantitative_columns])\n"
   ]
  },
  {
   "cell_type": "markdown",
   "metadata": {},
   "source": [
    "### Conceptual Models & Data Models"
   ]
  },
  {
   "cell_type": "markdown",
   "metadata": {},
   "source": [
    "In the space below this exercise here fill out your guesses about the data model and the conceptual model in play for slide 23\n",
    " \n",
    "If you don't see a text editor space below make sure to execute the cell, then scroll down to the Conceptual Models & Data Models exercise.\n"
   ]
  },
  {
   "cell_type": "code",
   "execution_count": 4,
   "metadata": {
    "scrolled": true
   },
   "outputs": [
    {
     "data": {
      "text/html": [
       "<iframe src=\"https://etherpad.wikimedia.org/p/dsf-dvr\" frameborder=\"0\" width=\"100%\" height=\"569\" allowfullscreen=\"true\" mozallowfullscreen=\"true\" webkitallowfullscreen=\"true\"></iframe>\n"
      ],
      "text/plain": [
       "<IPython.core.display.HTML object>"
      ]
     },
     "metadata": {},
     "output_type": "display_data"
    }
   ],
   "source": [
    "%%html\n",
    "<iframe src=\"https://etherpad.wikimedia.org/p/dsf-dvr\" frameborder=\"0\" width=\"100%\" height=\"569\" allowfullscreen=\"true\" mozallowfullscreen=\"true\" webkitallowfullscreen=\"true\"></iframe>"
   ]
  },
  {
   "cell_type": "markdown",
   "metadata": {},
   "source": [
    "## How: Visual Encoding\n",
    "\n",
    "Here we will discuss in general the types of options available to pair your data and it's attribute types with visual primitives common to all plottling libraries."
   ]
  },
  {
   "cell_type": "markdown",
   "metadata": {},
   "source": [
    "For each plot (1-4) on slide 29, list out what marks and channels you believe are in use\n",
    "\n",
    "If you don't see a text editor space below make sure to execute the cell, then scroll down to the Visual Encoding exercise.\n",
    "\n",
    "* 1\n",
    "    * Marks\n",
    "    * Channels\n",
    "* 2\n",
    "    * Marks\n",
    "    * Channels\n",
    "* 3\n",
    "    * Marks\n",
    "    * Channels\n",
    "* 4\n",
    "    * Marks\n",
    "    * Channels\n",
    "  "
   ]
  },
  {
   "cell_type": "code",
   "execution_count": 5,
   "metadata": {},
   "outputs": [
    {
     "data": {
      "text/html": [
       "<iframe src=\"https://etherpad.wikimedia.org/p/dsf-dvr\" frameborder=\"0\" width=\"100%\" height=\"569\" allowfullscreen=\"true\" mozallowfullscreen=\"true\" webkitallowfullscreen=\"true\"></iframe>\n"
      ],
      "text/plain": [
       "<IPython.core.display.HTML object>"
      ]
     },
     "metadata": {},
     "output_type": "display_data"
    }
   ],
   "source": [
    "%%html\n",
    "<iframe src=\"https://etherpad.wikimedia.org/p/dsf-dvr\" frameborder=\"0\" width=\"100%\" height=\"569\" allowfullscreen=\"true\" mozallowfullscreen=\"true\" webkitallowfullscreen=\"true\"></iframe>"
   ]
  },
  {
   "cell_type": "markdown",
   "metadata": {},
   "source": [
    "## Why: Task Abstraction and Action Target Pairs\n",
    "\n",
    "Now that we have a understanding of general categories of data, and how to connect them with visual primitives lets talk about how to frame the objectives that a visualization is meant to support. These objectives are often referred to as **\"Tasks\"** that a viewer is meant to accomplish via the visualization.\n",
    "\n",
    "Dr. Tamara Munzner put forward an abstraction of Tasks, that they are made up of two parts: an Action and Target. Together these form a Pair, and giving these some thought is often helpful in organizing our thinking when developing a visualization. "
   ]
  },
  {
   "cell_type": "markdown",
   "metadata": {},
   "source": [
    "See if you can identify some of the tasks that this visualization above (slide 36) was made to accomplish. Write them out using the categories of Action Target pairs below. One example is provided below to get you started. Also if you're feeling constrained, just write the task normally, and then see if there are actions and targets that come to you after. \n",
    "\n",
    "* Task 1:\n",
    "    * A viewer might be interested in identifying the high and low temperatures for a day in Tucson\n",
    "    * Action: Explore\n",
    "    * Target: Outliers"
   ]
  },
  {
   "cell_type": "code",
   "execution_count": 6,
   "metadata": {},
   "outputs": [
    {
     "data": {
      "text/html": [
       "<iframe src=\"https://etherpad.wikimedia.org/p/dsf-dvr\" frameborder=\"0\" width=\"100%\" height=\"569\" allowfullscreen=\"true\" mozallowfullscreen=\"true\" webkitallowfullscreen=\"true\"></iframe>\n"
      ],
      "text/plain": [
       "<IPython.core.display.HTML object>"
      ]
     },
     "metadata": {},
     "output_type": "display_data"
    }
   ],
   "source": [
    "%%html\n",
    "<iframe src=\"https://etherpad.wikimedia.org/p/dsf-dvr\" frameborder=\"0\" width=\"100%\" height=\"569\" allowfullscreen=\"true\" mozallowfullscreen=\"true\" webkitallowfullscreen=\"true\"></iframe>"
   ]
  },
  {
   "cell_type": "markdown",
   "metadata": {},
   "source": [
    "## Getting more hands on with the data \n",
    "\n",
    "At this point in the presentation we would like you to now go through the visualization design process using either of the csv's provided. \n",
    "\n",
    "Try to form a statement about both the **what** and the **why** (either one first).\n",
    "\n",
    "Then either brainstorm with hand drawings, voyager or raw graphs. Once you have completed this attempt to break the visualization down into marks and channels that are at play."
   ]
  },
  {
   "cell_type": "code",
   "execution_count": null,
   "metadata": {},
   "outputs": [],
   "source": []

  }
 ],
 "metadata": {
  "kernelspec": {
   "display_name": "Python 3 (ipykernel)",
   "language": "python",
   "name": "python3"
  },
  "language_info": {
   "codemirror_mode": {
    "name": "ipython",
    "version": 3
   },
   "file_extension": ".py",
   "mimetype": "text/x-python",
   "name": "python",
   "nbconvert_exporter": "python",
   "pygments_lexer": "ipython3",
   "version": "3.10.12"
  }
 },
 "nbformat": 4,
 "nbformat_minor": 4
}
